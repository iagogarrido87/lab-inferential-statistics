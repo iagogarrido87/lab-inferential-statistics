{
 "cells": [
  {
   "cell_type": "markdown",
   "id": "d050ba11",
   "metadata": {},
   "source": [
    "Step 1: Define Hypotheses\n",
    "The first step is to set up the null and alternative hypotheses:\n",
    "\n",
    "Null Hypothesis (H0): The group's mean\n",
    "systolic blood pressure is not significantly different from the regular population (μ = 120 mm Hg).\n",
    "Alternative Hypothesis (H1): The group's mean systolic blood pressure is significantly different from the regular population.\n",
    "\n",
    "Step 2: Choose Significance Level\n",
    "α = 0.05"
   ]
  },
  {
   "cell_type": "code",
   "execution_count": 1,
   "id": "f4310d01",
   "metadata": {},
   "outputs": [
    {
     "name": "stdout",
     "output_type": "stream",
     "text": [
      "Test Statistic: 4.761904761904759\n"
     ]
    }
   ],
   "source": [
    "import math\n",
    "\n",
    "sample_mean = 130.1\n",
    "population_mean = 120\n",
    "sample_std = 21.21\n",
    "sample_size = 100\n",
    "\n",
    "test_statistic = (sample_mean - population_mean) / (sample_std / math.sqrt(sample_size))\n",
    "print(\"Test Statistic:\", test_statistic)\n"
   ]
  },
  {
   "cell_type": "markdown",
   "id": "961ab2b6",
   "metadata": {},
   "source": [
    "with a test statistic of 4.761904761904759 and a significance level of 0.05, the decision would be to reject the null hypothesis and conclude that the group is significantly different from the regular population in terms of systolic blood pressure"
   ]
  }
 ],
 "metadata": {
  "kernelspec": {
   "display_name": "Python 3 (ipykernel)",
   "language": "python",
   "name": "python3"
  },
  "language_info": {
   "codemirror_mode": {
    "name": "ipython",
    "version": 3
   },
   "file_extension": ".py",
   "mimetype": "text/x-python",
   "name": "python",
   "nbconvert_exporter": "python",
   "pygments_lexer": "ipython3",
   "version": "3.9.13"
  }
 },
 "nbformat": 4,
 "nbformat_minor": 5
}
